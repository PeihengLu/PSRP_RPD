{
 "cells": [
  {
   "cell_type": "code",
   "execution_count": null,
   "metadata": {},
   "outputs": [],
   "source": [
    "from os.path import join as pjoin\n",
    "from os import listdir\n",
    "\n",
    "import pandas as pd\n",
    "import numpy as np\n",
    "import matplotlib.pyplot as plt\n",
    "import seaborn as sns"
   ]
  },
  {
   "cell_type": "markdown",
   "metadata": {},
   "source": [
    "## Figure 4\n",
    "Recreating the firgures in figure 4"
   ]
  },
  {
   "cell_type": "markdown",
   "metadata": {},
   "source": [
    "#### trial_response_side\n",
    "\n",
    "-1 for left, 1 for right, nan for no choice\n",
    "\n",
    "#### trial_reward\n",
    "\n",
    "1 for rewarded, 0 for non-rewarded, nan for no choice"
   ]
  },
  {
   "cell_type": "markdown",
   "metadata": {},
   "source": [
    "### Redo panel A"
   ]
  },
  {
   "cell_type": "code",
   "execution_count": null,
   "metadata": {},
   "outputs": [],
   "source": [
    "def panel_A(df: pd.DataFrame, name):\n",
    "    # preprocessing data\n",
    "    # fill nan values with 0s\n",
    "    indices = range(df.shape[0])\n",
    "\n",
    "    df = df.fillna(0)\n",
    "    nan_trials = df[df['trial_response_side'] == 0].index.tolist()\n",
    "    left_rewarded = df[(df['trial_response_side'] == -1) & (df['trial_reward'] == 1)].index.tolist()\n",
    "    right_rewarded = df[(df['trial_response_side'] == 1) & (df['trial_reward'] == 1)].index.tolist()\n",
    "    left_unrewarded = df[(df['trial_response_side'] == -1) & (df['trial_reward'] == 0)].index.tolist()\n",
    "    right_unrewarded = df[(df['trial_response_side'] == -1) & (df['trial_reward'] == 0)].index.tolist()\n",
    "\n",
    "    fig, axes = plt.subplots(2, 1, figsize=(15, 10))\n",
    "    fig.suptitle(name, fontsize=20)\n",
    "\n",
    "    sns.scatterplot(x=right_rewarded, y=1.1, marker='|', color='royalblue', ax=axes[0], s=100)\n",
    "    sns.scatterplot(x=left_rewarded, y=-1.1, marker='|', color='royalblue', ax=axes[0], s=100, label='rewarded')\n",
    "    sns.scatterplot(x=right_unrewarded, y=1.2, marker='|', color='deeppink', ax=axes[0], s=100, label='no_reward')\n",
    "    sns.scatterplot(x=left_unrewarded, y=-1.2, marker='|', color='deeppink', ax=axes[0], s=100)\n",
    "    sns.scatterplot(x=nan_trials, y=-1.15, marker='|', color='black', ax=axes[0], s=100, label='nan_trials')\n",
    "    sns.scatterplot(x=nan_trials, y=1.15, marker='|', color='black', ax=axes[0], s=100)\n",
    "\n",
    "    responses = np.convolve(df['trial_response_side'].to_numpy(), np.ones(10)/10, mode='same')\n",
    "    sns.lineplot(x=indices, y=responses.reshape(1, -1)[0], ax=axes[0], label='choices')\n",
    "\n",
    "    left_choices = df[df['trial_response_side'] == 1].index.tolist()\n",
    "    right_choices = df[df['trial_response_side'] == -1].index.tolist()\n",
    "    left_c = np.zeros(len(df))\n",
    "    left_c[left_choices] = 1\n",
    "    left_c = np.convolve(left_c, np.ones(10)/10, mode='same')\n",
    "    right_c = np.zeros(len(df))\n",
    "    right_c[right_choices] = 1\n",
    "    right_c = np.convolve(right_c, np.ones(10)/10, mode='same')\n",
    "    sns.lineplot(x=indices, y=right_c, color='royalblue', label='choose right', ax=axes[1])\n",
    "    sns.lineplot(x=indices, y=left_c, color='deeppink', label='choose left', ax=axes[1])\n",
    "\n",
    "    # sns.scatterplot(x=left_choices, y=1.1, marker='o', color='deeppink', ax=axes[1], s=10, label='left_choices')\n",
    "    # sns.scatterplot(x=nan_trials, y=1.1, marker='o', color='black', ax=axes[1], s=10, label='nan_trials')\n",
    "    # sns.scatterplot(x=right_choices, y=1.1, marker='o', color='royalblue', ax=axes[1], s=10, label='right_choices')\n",
    "\n",
    "    df['p'] = df[['leftP', 'rightP']].max(axis=1)\n",
    "    left = df[df['leftP'] > df['rightP']].index.tolist()\n",
    "    df.iloc[left] = df.iloc[left].mul(-1)\n",
    "    sns.lineplot(x=indices, y=df['p'], ax=axes[0], label='reward')\n",
    "\n",
    "    axes[0].legend(bbox_to_anchor=(1.15, 0.7))\n",
    "    axes[1].legend(bbox_to_anchor=(1.15, 0.7))\n",
    "\n",
    "    # plt.savefig(pjoin('figure_4', 'panel_A',name + '.tiff'), dpi=300)\n",
    "\n",
    "for file in listdir(pjoin('behaviour_data', 'csv')):\n",
    "    path = pjoin('behaviour_data', 'csv', file)\n",
    "    df = pd.read_csv(path)\n",
    "    panel_A(df, file.split('.')[0])"
   ]
  },
  {
   "cell_type": "markdown",
   "metadata": {},
   "source": [
    "## Panel B"
   ]
  },
  {
   "cell_type": "code",
   "execution_count": null,
   "metadata": {},
   "outputs": [],
   "source": []
  },
  {
   "cell_type": "markdown",
   "metadata": {},
   "source": [
    "## Panel D\n",
    "\n",
    "#### How to calculate 'Decay constant'??"
   ]
  },
  {
   "cell_type": "code",
   "execution_count": null,
   "metadata": {},
   "outputs": [],
   "source": [
    "WINDOW = 50\n",
    "high_P_all = []\n",
    "rewarded_all = []\n",
    "\n",
    "def find_switch(df: pd.DataFrame):\n",
    "    leftP = np.array(df['leftP'])\n",
    "    switches = []\n",
    "\n",
    "    for ind, p in enumerate(leftP):\n",
    "        if ind == 0:\n",
    "            continue\n",
    "        if p != (leftP[ind-1]):\n",
    "            if ind - WINDOW > 0 and ind + WINDOW < len(leftP):\n",
    "                windowed = df.iloc[ind-WINDOW:ind+WINDOW+1]\n",
    "                windowed = windowed.reset_index()\n",
    "                rewarded_all.append(np.array(windowed['trial_reward']))\n",
    "                highP = np.zeros(WINDOW * 2 + 1)\n",
    "                highP_ind = windowed[((windowed['leftP'] > 0.5) & \n",
    "                                      (windowed['trial_response_side'] == -1)) |\n",
    "                                      ((windowed['rightP'] > 0.5) &\n",
    "                                      (windowed['trial_response_side'] == 1))].index.tolist()\n",
    "                highP[highP_ind] = 1\n",
    "                high_P_all.append(highP)\n",
    "                \n",
    "\n",
    "for file in listdir(pjoin('behaviour_data', 'csv')):\n",
    "    path = pjoin('behaviour_data', 'csv', file)\n",
    "    df = pd.read_csv(path)\n",
    "    df = df.fillna(0)\n",
    "    find_switch(df)\n",
    "\n",
    "high_P_all = np.array(high_P_all)\n",
    "rewarded_all = np.array(rewarded_all)\n",
    "\n",
    "high_P_averaged = high_P_all.mean(axis=0)\n",
    "rewarded_averaged = rewarded_all.mean(axis=0)\n",
    "\n",
    "# high_P_averaged = np.convolve(high_P_all.mean(axis=0), np.ones(10)/10, mode='same')\n",
    "# rewarded_averaged = np.convolve(rewarded_all.mean(axis=0), np.ones(10)/10, mode='same')\n",
    "\n",
    "\n",
    "fig, axes = plt.subplots(1, 1, figsize=(15, 5))\n",
    "\n",
    "sns.lineplot(x=range(-50, 51), y=high_P_averaged, ax=axes, label='high probability choices')\n",
    "sns.lineplot(x=range(-50, 51), y=rewarded_averaged, ax=axes, label='rewarded choices')\n",
    "\n",
    "axes.set_ybound(0, 1)\n",
    "axes.set_xlim([-51, 51])\n",
    "axes.set_xticks(range(-50, 51, 10))\n",
    "axes.set_xlabel('Trial number since probability switch', fontsize=15)\n",
    "\n",
    "axes.legend(bbox_to_anchor=(1.2, 0.7))\n",
    "\n",
    "plt.savefig(pjoin('figure_4', 'panel_D', 'panel_D.tiff'), dpi=300)"
   ]
  }
 ],
 "metadata": {
  "kernelspec": {
   "display_name": "Python 3.7.7 64-bit",
   "language": "python",
   "name": "python3"
  },
  "language_info": {
   "codemirror_mode": {
    "name": "ipython",
    "version": 3
   },
   "file_extension": ".py",
   "mimetype": "text/x-python",
   "name": "python",
   "nbconvert_exporter": "python",
   "pygments_lexer": "ipython3",
   "version": "3.7.7"
  },
  "orig_nbformat": 4,
  "vscode": {
   "interpreter": {
    "hash": "d49c3f6d6dd49f9272b571d9fad348ab55b8c6c3f691520d74ed0af1f69c3dd8"
   }
  }
 },
 "nbformat": 4,
 "nbformat_minor": 2
}
