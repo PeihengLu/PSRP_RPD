{
 "cells": [
  {
   "attachments": {},
   "cell_type": "markdown",
   "metadata": {},
   "source": [
    "Check if the result from relative value matches prpd"
   ]
  },
  {
   "cell_type": "code",
   "execution_count": 5,
   "metadata": {},
   "outputs": [
    {
     "name": "stdout",
     "output_type": "stream",
     "text": [
      "Number of background significant relative value correlation:  792\n",
      "Number of background significant ppd value correlation:  1074\n",
      "Number of action window significant relative value correlation:  1083\n",
      "Number of action window significant ppd value correlation:  1415\n"
     ]
    }
   ],
   "source": [
    "import pandas as pd\n",
    "\n",
    "# read relative value correlation\n",
    "relative_corr_data = pd.read_csv('data/relative_value_correlation.csv')\n",
    "# read ppd value correlation xlsx file\n",
    "ppd_corr_data = pd.read_excel('data/PPD_RTW_summary_table_Wei_06may2022_V2.xlsx')\n",
    "\n",
    "bg_relative_significant = relative_corr_data[relative_corr_data['background_firing_p_values']<0.01]\n",
    "bg_ppd_significant = ppd_corr_data[ppd_corr_data['Background_firing_correlation_P_ value_with PPD']<0.01]\n",
    "\n",
    "print('Number of background significant relative value correlation: ', bg_relative_significant.shape[0])\n",
    "print('Number of background significant ppd value correlation: ', bg_ppd_significant.shape[0])\n",
    "\n",
    "\n",
    "# check the same for action window \n",
    "action_relative_significant = relative_corr_data[relative_corr_data['response_firing_p_values']<0.01] \n",
    "action_ppd_significant = ppd_corr_data[ppd_corr_data['Response_magnitude_correlation_P_ value_with PPD']<0.01]\n",
    "\n",
    "print('Number of action window significant relative value correlation: ', action_relative_significant.shape[0])\n",
    "print('Number of action window significant ppd value correlation: ', action_ppd_significant.shape[0])"
   ]
  }
 ],
 "metadata": {
  "kernelspec": {
   "display_name": "dissertation",
   "language": "python",
   "name": "python3"
  },
  "language_info": {
   "codemirror_mode": {
    "name": "ipython",
    "version": 3
   },
   "file_extension": ".py",
   "mimetype": "text/x-python",
   "name": "python",
   "nbconvert_exporter": "python",
   "pygments_lexer": "ipython3",
   "version": "3.11.0"
  },
  "orig_nbformat": 4
 },
 "nbformat": 4,
 "nbformat_minor": 2
}
