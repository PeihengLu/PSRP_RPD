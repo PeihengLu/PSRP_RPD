{
 "cells": [
  {
   "attachments": {},
   "cell_type": "markdown",
   "metadata": {},
   "source": [
    "# Creating Figures Strong Corr"
   ]
  },
  {
   "attachments": {},
   "cell_type": "markdown",
   "metadata": {},
   "source": [
    "## Creating Panel B"
   ]
  },
  {
   "cell_type": "code",
   "execution_count": 1,
   "metadata": {},
   "outputs": [
    {
     "name": "stderr",
     "output_type": "stream",
     "text": [
      "AKED0620210804:   5%|▍         | 414/8366 [03:53<1:22:23,  1.61it/s]"
     ]
    },
    {
     "ename": "",
     "evalue": "",
     "output_type": "error",
     "traceback": [
      "\u001b[1;31mThe Kernel crashed while executing code in the the current cell or a previous cell. Please review the code in the cell(s) to identify a possible cause of the failure. Click <a href='https://aka.ms/vscodeJupyterKernelCrash'>here</a> for more info. View Jupyter <a href='command:jupyter.viewOutput'>log</a> for further details."
     ]
    }
   ],
   "source": [
    "from lib.figure_5 import get_fig_5_panel_b\n",
    "\n",
    "get_fig_5_panel_b()"
   ]
  },
  {
   "attachments": {},
   "cell_type": "markdown",
   "metadata": {},
   "source": [
    "## Panel C Mono"
   ]
  },
  {
   "cell_type": "code",
   "execution_count": null,
   "metadata": {},
   "outputs": [],
   "source": [
    "import pandas as pd\n",
    "import numpy as np\n",
    "from glob import glob\n",
    "import matplotlib.pyplot as plt\n",
    "\n",
    "from os.path import join as pjoin\n",
    "from os.path import basename\n",
    "\n",
    "from lib.file_utils import get_dms_pfc_paths_mono\n",
    "from lib.figure_5 import fig_5_panel_c, phase_diff_pfc_dms\n",
    "from lib.calculation import get_response_bg_firing\n",
    "\n",
    "mono_pairs = get_dms_pfc_paths_mono()\n",
    "\n",
    "phase_diffs = []\n",
    "phase_diffs_bg = [] \n",
    "for ind, row in mono_pairs.iterrows():\n",
    "    behaviour_data = pd.read_csv(row['session_path'])\n",
    "    pfc_times = np.load(row['pfc_path'])\n",
    "    str_times = np.load(row['str_path'])\n",
    "\n",
    "    cue_times = behaviour_data['cue_time'].tolist()\n",
    "    pfc_mag, pfc_bg = get_response_bg_firing(cue_times=cue_times, spike_times=pfc_times)\n",
    "    str_mag, str_bg = get_response_bg_firing(cue_times=cue_times, spike_times=str_times)\n",
    "\n",
    "    phase_d, phase_d_bg = phase_diff_pfc_dms(pfc_mag=pfc_mag, pfc_bg=pfc_bg, dms_mag=str_mag, dms_bg=str_bg)\n",
    "    phase_diffs.append(phase_d)\n",
    "    phase_diffs_bg.append(phase_d_bg)\n",
    "\n",
    "fig_path = pjoin('figures', 'figure_5', 'panel_c', 'mono_all.jpg')\n",
    "fig = fig_5_panel_c(phase_diffs=phase_diffs, phase_diffs_bg=phase_diffs_bg, bin_size=36)\n",
    "fig.savefig(fig_path, dpi=300)"
   ]
  },
  {
   "attachments": {},
   "cell_type": "markdown",
   "metadata": {},
   "source": [
    "## Panel D Mono"
   ]
  },
  {
   "cell_type": "code",
   "execution_count": null,
   "metadata": {},
   "outputs": [],
   "source": [
    "from lib.figure_5 import get_figure_5_panel_d\n",
    "\n",
    "get_figure_5_panel_d(mono=True, bin_size=36, zero_ymin=True)"
   ]
  },
  {
   "attachments": {},
   "cell_type": "markdown",
   "metadata": {},
   "source": [
    "## Panel C All"
   ]
  },
  {
   "cell_type": "code",
   "execution_count": null,
   "metadata": {},
   "outputs": [],
   "source": [
    "import pandas as pd\n",
    "import numpy as np\n",
    "from glob import glob\n",
    "import matplotlib.pyplot as plt\n",
    "\n",
    "from os.path import join as pjoin\n",
    "from os.path import basename\n",
    "from os import listdir\n",
    "\n",
    "from lib.figure_5 import fig_5_panel_c, phase_diff_pfc_dms\n",
    "from lib.calculation import get_session_performances, get_response_bg_firing\n",
    "\n",
    "phase_diffs = []\n",
    "phase_diffs_bg = [] \n",
    "bin_size = 100\n",
    "\n",
    "performances, cutoff = get_session_performances()\n",
    "spike_data_root = pjoin('data', 'spike_times', 'sessions')\n",
    "behaviour_root = pjoin('data', 'behaviour_data')\n",
    "\n",
    "for session_name in listdir(spike_data_root):\n",
    "    behaviour = pjoin(behaviour_root, session_name + '.csv')\n",
    "    behaviour_data = pd.read_csv(behaviour)\n",
    "    cue_times = behaviour_data['cue_time'].tolist()\n",
    "    for pfc in glob(pjoin(spike_data_root, session_name, 'pfc_*')):\n",
    "        pfc_times = np.load(pfc)\n",
    "        for dms in glob(pjoin(spike_data_root, session_name, 'str_*')):\n",
    "            str_times = np.load(dms)\n",
    "            pfc_mag, pfc_bg = get_response_bg_firing(cue_times=cue_times, spike_times=pfc_times)\n",
    "            dms_mag, dms_bg = get_response_bg_firing(cue_times=cue_times, spike_times=str_times)\n",
    "            phase_d, phase_d_bg = phase_diff_pfc_dms(pfc_mag=pfc_mag, pfc_bg=pfc_bg, dms_mag=dms_mag, dms_bg=dms_bg)\n",
    "            phase_diffs.append(phase_d)\n",
    "            phase_diffs_bg.append(phase_d_bg)\n",
    "\n",
    "fig = fig_5_panel_c(phase_diffs=phase_diffs, phase_diffs_bg=phase_diffs_bg, bin_size=36, zero_ymin=False)"
   ]
  },
  {
   "attachments": {},
   "cell_type": "markdown",
   "metadata": {},
   "source": [
    "## Panel D All"
   ]
  },
  {
   "cell_type": "code",
   "execution_count": null,
   "metadata": {},
   "outputs": [],
   "source": [
    "from lib.figure_5 import get_figure_5_panel_d\n",
    "\n",
    "get_figure_5_panel_d(mono=False, bin_size=36, zero_ymin=False)"
   ]
  },
  {
   "cell_type": "code",
   "execution_count": null,
   "metadata": {},
   "outputs": [],
   "source": [
    "from lib.figure_5 import get_figure_5_panel_d\n",
    "\n",
    "get_figure_5_panel_d(mono=True, bin_size=36, zero_ymin=False)"
   ]
  },
  {
   "attachments": {},
   "cell_type": "markdown",
   "metadata": {},
   "source": [
    "## Check relative value and PRPD correlation"
   ]
  },
  {
   "cell_type": "code",
   "execution_count": null,
   "metadata": {},
   "outputs": [],
   "source": [
    "# for each session, load the relative value and the PRPD\n",
    "# plot the PRPD against the relative value\n",
    "\n",
    "import pandas as pd\n",
    "import numpy as np\n",
    "from glob import glob\n",
    "import matplotlib.pyplot as plt\n",
    "\n",
    "from os.path import join as pjoin\n",
    "from os.path import basename\n",
    "from os import listdir\n",
    "\n",
    "from lib.calculation import moving_window_mean_prior\n",
    "\n",
    "for session in glob(pjoin('data', 'relative_values', '*.npy')):\n",
    "    session = basename(session)\n",
    "    session_name = session.split('.')[0]\n",
    "    relative_value_path = pjoin('data', 'relative_values', session)\n",
    "    relative_value = np.load(relative_value_path)\n",
    "    # smoothen the relative value\n",
    "    relative_value = moving_window_mean_prior(relative_value, 20)\n",
    "    prpd_path = pjoin('data', 'prpd', session)\n",
    "    prpd = np.load(prpd_path)\n",
    "    # load the behaviour data and remove the nan trials in prpd\n",
    "    behaviour_data = pd.read_csv(pjoin('data', 'behaviour_data', session_name + '.csv'))\n",
    "    prpd = prpd[~np.isnan(behaviour_data['trial_reward'])]\n",
    "    \n",
    "    # plot PRPD and relative values as twin x line plot\n",
    "    fig, ax1 = plt.subplots()\n",
    "    ax2 = ax1.twinx()\n",
    "    ax1.plot(prpd, color='blue')\n",
    "    ax2.plot(relative_value, color='red')\n",
    "    ax1.set_ylabel('PRPD', color='blue')\n",
    "    ax2.set_ylabel('Relative Value', color='red')\n",
    "    ax1.set_xlabel('Trial Number')\n",
    "    fig.suptitle(session_name)\n",
    "    plt.show()\n",
    "    plt.close()"
   ]
  },
  {
   "attachments": {},
   "cell_type": "markdown",
   "metadata": {},
   "source": [
    "# Panel E"
   ]
  },
  {
   "cell_type": "code",
   "execution_count": null,
   "metadata": {},
   "outputs": [],
   "source": [
    "from lib.figure_5 import get_figure_5_panel_e\n",
    "\n",
    "fig = get_figure_5_panel_e(mono=False, no_nan=False, zero_ymin=False)"
   ]
  },
  {
   "cell_type": "code",
   "execution_count": null,
   "metadata": {},
   "outputs": [],
   "source": [
    "from lib.figure_5 import get_figure_5_panel_e\n",
    "\n",
    "fig = get_figure_5_panel_e(mono=True, no_nan=True, zero_ymin=False)"
   ]
  },
  {
   "attachments": {},
   "cell_type": "markdown",
   "metadata": {},
   "source": [
    "## Plateau and transition trials"
   ]
  },
  {
   "cell_type": "code",
   "execution_count": null,
   "metadata": {},
   "outputs": [],
   "source": [
    "from lib.figure_5 import get_figure_5_panel_extra\n",
    "\n",
    "fig = get_figure_5_panel_extra(mono=False, no_nan=False, zero_ymin=False)"
   ]
  }
 ],
 "metadata": {
  "kernelspec": {
   "display_name": "Python 3",
   "language": "python",
   "name": "python3"
  },
  "language_info": {
   "codemirror_mode": {
    "name": "ipython",
    "version": 3
   },
   "file_extension": ".py",
   "mimetype": "text/x-python",
   "name": "python",
   "nbconvert_exporter": "python",
   "pygments_lexer": "ipython3",
   "version": "3.11.3"
  },
  "orig_nbformat": 4,
  "vscode": {
   "interpreter": {
    "hash": "9ea5377f905e54b38a7b5c1add59861aba48bdfa3d6726f5b19240f24d0b137d"
   }
  }
 },
 "nbformat": 4,
 "nbformat_minor": 2
}
