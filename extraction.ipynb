{
 "cells": [
  {
   "cell_type": "code",
   "execution_count": 18,
   "metadata": {},
   "outputs": [],
   "source": [
    "from os.path import join as pjoin\n",
    "from os import listdir\n",
    "from typing import List, Tuple\n",
    "\n",
    "import pandas as pd\n",
    "import numpy as np\n",
    "from numpy import correlate\n",
    "\n",
    "from conversion import one_to_zero_cell, zero_to_one_cell\n",
    "\n",
    "spike_data_root = pjoin(\"data\", \"spike_times\")\n",
    "behaviour_root = pjoin(\"data\", \"behaviour_data\", \"csv\", \"task_info\")\n",
    "strong_corr_iti_path = \"strong_correlation_pairs_ITI.csv\"\n",
    "strong_corr_path = \"strong_correlation_pairs.csv\""
   ]
  },
  {
   "cell_type": "code",
   "execution_count": 21,
   "metadata": {},
   "outputs": [
    {
     "data": {
      "text/plain": [
       "([('AKED0120210721', 0.8685205343223286),\n",
       "  ('AKED0120210722', 0.7705645290193843),\n",
       "  ('AKED0120210723', 0.7902056417044585),\n",
       "  ('AKED0120210728', 0.7680163474288698),\n",
       "  ('AKED0120210729', 0.8412282060181429),\n",
       "  ('AKED0120210801', 0.8079100923380844),\n",
       "  ('AKED0220210729', 0.8281322381708074),\n",
       "  ('AKED0220210730', 0.834809743250206),\n",
       "  ('AKED0220210731', 0.9113904123014898),\n",
       "  ('AKED0220210801', 0.786986241881698),\n",
       "  ('AKED0220210802', 0.8537416828909363),\n",
       "  ('AKED0220210803', 0.7751414698794787),\n",
       "  ('AKED0220210804', 0.8754864465563401),\n",
       "  ('AKED0420210802', 0.5666507916282243),\n",
       "  ('AKED0420210803', 0.7406133073417972),\n",
       "  ('AKED0420210804', 0.6816950810562871),\n",
       "  ('AKED0420210805', 0.6618046254702616),\n",
       "  ('AKED0420210806', 0.8453460501741678),\n",
       "  ('AKED0520210715', 0.8111962066711268),\n",
       "  ('AKED0520210716', 0.5955588607858646),\n",
       "  ('AKED0520210719', 0.7900027599312125),\n",
       "  ('AKED0520210720', 0.7268358515762345),\n",
       "  ('AKED0520210725', 0.8938494596860949),\n",
       "  ('AKED0520210726', 0.8227710824216123),\n",
       "  ('AKED0520210727', 0.827417685619972),\n",
       "  ('AKED0620210803', 0.7963868514256556),\n",
       "  ('AKED0620210804', 0.6884127573028131),\n",
       "  ('AKED0620210805', 0.5523514859326649),\n",
       "  ('AKED0620210806', 0.7133694794607409)],\n",
       " 0.7733239973188606)"
      ]
     },
     "execution_count": 21,
     "metadata": {},
     "output_type": "execute_result"
    }
   ],
   "source": []
  }
 ],
 "metadata": {
  "kernelspec": {
   "display_name": "Python 3",
   "language": "python",
   "name": "python3"
  },
  "language_info": {
   "codemirror_mode": {
    "name": "ipython",
    "version": 3
   },
   "file_extension": ".py",
   "mimetype": "text/x-python",
   "name": "python",
   "nbconvert_exporter": "python",
   "pygments_lexer": "ipython3",
   "version": "3.10.4"
  },
  "orig_nbformat": 4
 },
 "nbformat": 4,
 "nbformat_minor": 2
}
