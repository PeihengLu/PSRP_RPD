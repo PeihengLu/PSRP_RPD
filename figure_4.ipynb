{
 "cells": [
  {
   "cell_type": "code",
   "execution_count": null,
   "metadata": {},
   "outputs": [],
   "source": [
    "from os.path import join as pjoin\n",
    "from os import listdir, mkdir\n",
    "from os.path import basename, isfile, isdir\n",
    "\n",
    "import pandas as pd\n",
    "import numpy as np\n",
    "import matplotlib.pyplot as plt\n",
    "import seaborn as sns"
   ]
  },
  {
   "attachments": {},
   "cell_type": "markdown",
   "metadata": {},
   "source": [
    "# Figure 4 Panel A, B, D, E"
   ]
  },
  {
   "cell_type": "code",
   "execution_count": null,
   "metadata": {},
   "outputs": [],
   "source": [
    "WINDOW_LEFT = 0.5\n",
    "WINDOW_RIGHT = 1.5\n",
    "# 1/BIN_WIDTH must be an integer\n",
    "BIN_WIDTH = 0.02\n",
    "\n",
    "def raster(spikes, cue_times, leftP, session_name, brain_section):\n",
    "    for ind in range(len(spikes)):\n",
    "        fig, axes = plt.subplots(2, 1, figsize=(15, 10))\n",
    "        pointer = 0\n",
    "        # left side advantageous\n",
    "        all_spikes_left = []\n",
    "        # right side advantageous\n",
    "        all_spikes_right = []\n",
    "\n",
    "        for tiral_ind, cue in enumerate(cue_times):\n",
    "            trial_spikes = []\n",
    "            cue_left = cue - WINDOW_LEFT\n",
    "            cue_right = cue + WINDOW_RIGHT\n",
    "\n",
    "            cell = spikes[ind]\n",
    "            # move the pointer into the trial window\n",
    "            while pointer < len(cell) and cell[pointer] < cue_left:\n",
    "                pointer += 1\n",
    "            # recording all spikes in the window\n",
    "            while pointer < len(cell) and cell[pointer] <= cue_right:\n",
    "                relative_time = cell[pointer] - cue\n",
    "                if leftP[tiral_ind] > 0.5:\n",
    "                    all_spikes_left.append(relative_time)\n",
    "                else:\n",
    "                    all_spikes_right.append(relative_time)\n",
    "                trial_spikes.append(relative_time)\n",
    "                pointer += 1\n",
    "            sns.scatterplot(x=trial_spikes, y=tiral_ind, ax=axes[0], color='black', markers='.', s=5)\n",
    "        \n",
    "        bins = np.arange(start=-WINDOW_LEFT, stop=WINDOW_RIGHT, step=BIN_WIDTH)\n",
    "        left_y, left_bin_edges = np.histogram(all_spikes_left, bins=bins)\n",
    "        left_bin_centers = 0.5 * (left_bin_edges[1:] + left_bin_edges[:-1])\n",
    "        sns.lineplot(left_bin_centers, (left_y * int(1 / BIN_WIDTH)) / len(cue_times), ax=axes[1], label='Left P high')\n",
    "\n",
    "        right_y, right_bin_edges = np.histogram(all_spikes_right, bins=bins)\n",
    "        right_bin_centers = 0.5 * (right_bin_edges[1:] + right_bin_edges[:-1])\n",
    "        sns.lineplot(right_bin_centers, right_y * int(1 / BIN_WIDTH) / len(cue_times), ax=axes[1], label='Right P high')\n",
    "\n",
    "        axes[0].get_xaxis().set_visible(False)\n",
    "        axes[1].set_xticks([-0.5, 0, 0.5, 1, 1.5])\n",
    "        axes[0].spines['top'].set_visible(False)\n",
    "        axes[0].spines['bottom'].set_visible(False)\n",
    "        axes[0].spines['right'].set_visible(False)\n",
    "        axes[1].spines['top'].set_visible(False)\n",
    "        axes[1].spines['right'].set_visible(False)\n",
    "\n",
    "        # set axis labels and fig name\n",
    "        axes[0].set_ylabel('Trial Number')\n",
    "        axes[1].set_ylabel('Frequency (HZ)')\n",
    "\n",
    "        axes[1].legend(bbox_to_anchor=(1.15, 0.7))\n",
    "\n",
    "        # save firing for a cell\n",
    "        if not isdir(pjoin('figure_2', 'panel_A', session_name)):\n",
    "            mkdir(pjoin('figure_2', 'panel_A', session_name))\n",
    "            mkdir(pjoin('figure_2', 'panel_A', session_name, 'svg'))\n",
    "            mkdir(pjoin('figure_2', 'panel_A', session_name, 'tiff'))\n",
    "            \n",
    "        plt.savefig(pjoin('figure_2', 'panel_A', session_name, 'tiff', brain_section + '_' + str(ind) + '.tiff'), dpi=200)\n",
    "        plt.savefig(pjoin('figure_2', 'panel_A', session_name, 'svg', brain_section + '_' + str(ind) + '.svg'), format='svg')"
   ]
  },
  {
   "cell_type": "code",
   "execution_count": null,
   "metadata": {},
   "outputs": [],
   "source": [
    "for dir in listdir(pjoin('data', 'spike_times')):\n",
    "    pfc_path = pjoin('data', 'spike_times', dir, 'pfc.npy')\n",
    "    str_path = pjoin('data', 'spike_times', dir, 'str.npy')\n",
    "\n",
    "    if not isfile(pfc_path):\n",
    "        print(dir)\n",
    "        continue\n",
    "    \n",
    "    pfc_data = np.load(pfc_path, allow_pickle=True)\n",
    "    str_data = np.load(str_path, allow_pickle=True)\n",
    "\n",
    "    behaviour_path = pjoin('data', 'behaviour_data', 'csv', 'task_info', dir + '.csv')\n",
    "    task_info = pd.read_csv(behaviour_path)\n",
    "\n",
    "    cue_times = task_info['cue_time']\n",
    "    leftP = task_info['leftP']\n",
    "\n",
    "    raster(spikes=pfc_data, cue_times=cue_times, leftP=leftP, session_name=dir, brain_section='pfc')\n",
    "    raster(spikes=str_data, cue_times=cue_times, leftP=leftP, session_name=dir, brain_section='str')\n",
    "    break"
   ]
  }
 ],
 "metadata": {
  "kernelspec": {
   "display_name": "Python 3.7.7 64-bit",
   "language": "python",
   "name": "python3"
  },
  "language_info": {
   "codemirror_mode": {
    "name": "ipython",
    "version": 3
   },
   "file_extension": ".py",
   "mimetype": "text/x-python",
   "name": "python",
   "nbconvert_exporter": "python",
   "pygments_lexer": "ipython3",
   "version": "3.7.7"
  },
  "orig_nbformat": 4,
  "vscode": {
   "interpreter": {
    "hash": "d49c3f6d6dd49f9272b571d9fad348ab55b8c6c3f691520d74ed0af1f69c3dd8"
   }
  }
 },
 "nbformat": 4,
 "nbformat_minor": 2
}
