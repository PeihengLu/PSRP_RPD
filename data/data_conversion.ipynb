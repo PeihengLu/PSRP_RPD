{
 "cells": [
  {
   "cell_type": "code",
   "execution_count": 5,
   "metadata": {},
   "outputs": [],
   "source": [
    "from os import listdir\n",
    "from os.path import join as pjoin\n",
    "from os.path import basename, isfile\n",
    "\n",
    "import numpy as np\n",
    "import pandas as pd\n",
    "from scipy.io import loadmat"
   ]
  },
  {
   "attachments": {},
   "cell_type": "markdown",
   "metadata": {},
   "source": [
    "# Data conversion\n",
    "\n",
    "Converting .mat files into dataframes and then csv files"
   ]
  },
  {
   "cell_type": "code",
   "execution_count": 12,
   "metadata": {},
   "outputs": [],
   "source": [
    "def convert_to_csv(file):\n",
    "    mat = loadmat(file)\n",
    "    df = pd.DataFrame()\n",
    "    df['leftP'] = mat['leftP'][0]\n",
    "    df['rightP'] = mat['rightP'][0]\n",
    "    df['trial_response_side'] = mat['trialresponseside'][0]\n",
    "    df['trial_reward'] = mat['trialreward'][0]\n",
    "    return df\n",
    "\n",
    "def convert_timing_to_csv(df, file):\n",
    "    mat = loadmat(file)\n",
    "    df['cue_time'] = mat['cuetimes'][0]\n",
    "    # fill this column with nan\n",
    "    df['response_time'] = np.nan\n",
    "    # assign rewarded non-nan trials' response time \n",
    "    # using the rewardtimes array from the mat file\n",
    "    df.loc[df['trial_reward'] == 1, 'response_time'] = mat['rewardtimes'][0]\n",
    "    # similarly for unrewarded trials\n",
    "    df.loc[df['trial_reward'] == 0, 'response_time'] = mat['wrongdirtimes'][0]\n",
    "    return df"
   ]
  },
  {
   "cell_type": "code",
   "execution_count": 13,
   "metadata": {},
   "outputs": [
    {
     "name": "stdout",
     "output_type": "stream",
     "text": [
      "[  25.1209    38.6192   110.4084   169.43915  177.3578   181.00355\n",
      "  193.8251   212.58885  237.0404   241.11085  247.84515  261.19495\n",
      "  267.225    332.1205   348.42245  356.40745  365.70735  371.0256\n",
      "  380.01765  385.89075  399.321    420.7502   434.593    443.02305\n",
      "  448.4084   470.4502   479.71995  497.06305  527.4273   538.3443\n",
      "  547.0014   619.12785  622.3267   666.89335  670.22995  702.35045\n",
      "  713.2576   731.1942   778.69085  794.5826   802.21425  827.06065\n",
      "  829.8423   844.99305  861.07     868.31735  877.8424   899.87805\n",
      "  915.3217   921.58365  927.4265   929.89215  944.1785   956.35105\n",
      "  963.6674   985.8483   990.5774   995.9328  1005.19895 1020.2367\n",
      " 1023.32035 1032.36095 1162.26025 1225.3413  1258.0846  1301.2648\n",
      " 1332.25255 1335.0358  1378.6487  1381.6208  1401.8676  1411.1983\n",
      " 1454.81915 1486.01895 1498.67215 1532.99825 1546.0535  1562.77965\n",
      " 1576.21715 1585.12155 1626.77115 1630.99395 1647.5696  1723.8553\n",
      " 1733.2319  1765.7987  1809.65275 1843.4354  1854.55745 1880.0752\n",
      " 1931.59915 1939.5906  1961.93515 1979.36305 1991.03125 2011.08905\n",
      " 2047.7959  2110.32975 2130.4536  2138.8864  2148.10785 2151.47145\n",
      " 2204.6248  2213.47355 2223.22895 2261.34755 2314.5678  2318.12125\n",
      " 2347.94595 2354.99825 2396.6277  2514.6476  2518.4376  2548.8654\n",
      " 2551.4156  2554.25685 2561.5344  2565.0809  2699.54115 2710.7094\n",
      " 2828.72545]\n"
     ]
    },
    {
     "ename": "KeyError",
     "evalue": "'wrongdirtimes'",
     "output_type": "error",
     "traceback": [
      "\u001b[0;31m---------------------------------------------------------------------------\u001b[0m",
      "\u001b[0;31mKeyError\u001b[0m                                  Traceback (most recent call last)",
      "Cell \u001b[0;32mIn[13], line 6\u001b[0m\n\u001b[1;32m      4\u001b[0m df \u001b[39m=\u001b[39m convert_to_csv(path) \n\u001b[1;32m      5\u001b[0m timing_path \u001b[39m=\u001b[39m pjoin(\u001b[39m'\u001b[39m\u001b[39mbehaviour_data\u001b[39m\u001b[39m'\u001b[39m, \u001b[39m'\u001b[39m\u001b[39mmat\u001b[39m\u001b[39m'\u001b[39m, \u001b[39m'\u001b[39m\u001b[39mtiming_info\u001b[39m\u001b[39m'\u001b[39m, file)\n\u001b[0;32m----> 6\u001b[0m df \u001b[39m=\u001b[39m convert_timing_to_csv(df, timing_path)\n\u001b[1;32m      7\u001b[0m df\u001b[39m.\u001b[39mto_csv(pjoin(\u001b[39m'\u001b[39m\u001b[39mbehaviour_data\u001b[39m\u001b[39m'\u001b[39m, file\u001b[39m.\u001b[39msplit(\u001b[39m'\u001b[39m\u001b[39m.\u001b[39m\u001b[39m'\u001b[39m)[\u001b[39m0\u001b[39m] \u001b[39m+\u001b[39m \u001b[39m'\u001b[39m\u001b[39m.csv\u001b[39m\u001b[39m'\u001b[39m), index\u001b[39m=\u001b[39m\u001b[39mFalse\u001b[39;00m)\n",
      "Cell \u001b[0;32mIn[12], line 20\u001b[0m, in \u001b[0;36mconvert_timing_to_csv\u001b[0;34m(df, file)\u001b[0m\n\u001b[1;32m     18\u001b[0m df\u001b[39m.\u001b[39mloc[df[\u001b[39m'\u001b[39m\u001b[39mtrial_reward\u001b[39m\u001b[39m'\u001b[39m] \u001b[39m==\u001b[39m \u001b[39m1\u001b[39m, \u001b[39m'\u001b[39m\u001b[39mresponse_time\u001b[39m\u001b[39m'\u001b[39m] \u001b[39m=\u001b[39m mat[\u001b[39m'\u001b[39m\u001b[39mrewardtimes\u001b[39m\u001b[39m'\u001b[39m][\u001b[39m0\u001b[39m]\n\u001b[1;32m     19\u001b[0m \u001b[39m# similarly for unrewarded trials\u001b[39;00m\n\u001b[0;32m---> 20\u001b[0m df\u001b[39m.\u001b[39mloc[df[\u001b[39m'\u001b[39m\u001b[39mtrial_reward\u001b[39m\u001b[39m'\u001b[39m] \u001b[39m==\u001b[39m \u001b[39m0\u001b[39m, \u001b[39m'\u001b[39m\u001b[39mresponse_time\u001b[39m\u001b[39m'\u001b[39m] \u001b[39m=\u001b[39m mat[\u001b[39m'\u001b[39;49m\u001b[39mwrongdirtimes\u001b[39;49m\u001b[39m'\u001b[39;49m][\u001b[39m0\u001b[39m]\n\u001b[1;32m     21\u001b[0m \u001b[39mreturn\u001b[39;00m df\n",
      "\u001b[0;31mKeyError\u001b[0m: 'wrongdirtimes'"
     ]
    }
   ],
   "source": [
    "# load .mat file\n",
    "for file in listdir(pjoin('behaviour_data', 'mat', 'task_info')):\n",
    "    path = pjoin('behaviour_data', 'mat', 'task_info', file)\n",
    "    df = convert_to_csv(path) \n",
    "    timing_path = pjoin('behaviour_data', 'mat', 'timing_info', file)\n",
    "    df = convert_timing_to_csv(df, timing_path)\n",
    "    df.to_csv(pjoin('behaviour_data', file.split('.')[0] + '.csv'), index=False)"
   ]
  },
  {
   "attachments": {},
   "cell_type": "markdown",
   "metadata": {},
   "source": [
    "## convert spike times"
   ]
  },
  {
   "cell_type": "code",
   "execution_count": 8,
   "metadata": {},
   "outputs": [
    {
     "name": "stdout",
     "output_type": "stream",
     "text": [
      "[7.55000000e-03 4.94000000e-02 1.58700000e-01 ... 1.50738115e+03\n",
      " 1.50797485e+03 1.50799260e+03]\n"
     ]
    },
    {
     "ename": "ValueError",
     "evalue": "setting an array element with a sequence. The requested array has an inhomogeneous shape after 1 dimensions. The detected shape was (2,) + inhomogeneous part.",
     "output_type": "error",
     "traceback": [
      "\u001b[0;31m---------------------------------------------------------------------------\u001b[0m",
      "\u001b[0;31mValueError\u001b[0m                                Traceback (most recent call last)",
      "Cell \u001b[0;32mIn[8], line 10\u001b[0m\n\u001b[1;32m      8\u001b[0m pfc \u001b[39m=\u001b[39m [np\u001b[39m.\u001b[39marray(i)\u001b[39m.\u001b[39mflatten() \u001b[39mfor\u001b[39;00m i \u001b[39min\u001b[39;00m mat[\u001b[39m'\u001b[39m\u001b[39mpfcspts\u001b[39m\u001b[39m'\u001b[39m][\u001b[39m0\u001b[39m]]\n\u001b[1;32m      9\u001b[0m \u001b[39mstr\u001b[39m \u001b[39m=\u001b[39m [np\u001b[39m.\u001b[39marray(i)\u001b[39m.\u001b[39mflatten() \u001b[39mfor\u001b[39;00m i \u001b[39min\u001b[39;00m mat[\u001b[39m'\u001b[39m\u001b[39mstrspts\u001b[39m\u001b[39m'\u001b[39m][\u001b[39m0\u001b[39m]]\n\u001b[0;32m---> 10\u001b[0m np\u001b[39m.\u001b[39;49msave(pjoin(\u001b[39m'\u001b[39;49m\u001b[39mspike_times\u001b[39;49m\u001b[39m'\u001b[39;49m, \u001b[39mdir\u001b[39;49m, \u001b[39m'\u001b[39;49m\u001b[39mpfc.npy\u001b[39;49m\u001b[39m'\u001b[39;49m), pfc)\n\u001b[1;32m     11\u001b[0m np\u001b[39m.\u001b[39msave(pjoin(\u001b[39m'\u001b[39m\u001b[39mspike_times\u001b[39m\u001b[39m'\u001b[39m, \u001b[39mdir\u001b[39m, \u001b[39m'\u001b[39m\u001b[39mstr.npy\u001b[39m\u001b[39m'\u001b[39m), \u001b[39mstr\u001b[39m)\n",
      "File \u001b[0;32m<__array_function__ internals>:200\u001b[0m, in \u001b[0;36msave\u001b[0;34m(*args, **kwargs)\u001b[0m\n",
      "File \u001b[0;32m~/anaconda3/envs/work/lib/python3.11/site-packages/numpy/lib/npyio.py:521\u001b[0m, in \u001b[0;36msave\u001b[0;34m(file, arr, allow_pickle, fix_imports)\u001b[0m\n\u001b[1;32m    518\u001b[0m     file_ctx \u001b[39m=\u001b[39m \u001b[39mopen\u001b[39m(file, \u001b[39m\"\u001b[39m\u001b[39mwb\u001b[39m\u001b[39m\"\u001b[39m)\n\u001b[1;32m    520\u001b[0m \u001b[39mwith\u001b[39;00m file_ctx \u001b[39mas\u001b[39;00m fid:\n\u001b[0;32m--> 521\u001b[0m     arr \u001b[39m=\u001b[39m np\u001b[39m.\u001b[39;49masanyarray(arr)\n\u001b[1;32m    522\u001b[0m     \u001b[39mformat\u001b[39m\u001b[39m.\u001b[39mwrite_array(fid, arr, allow_pickle\u001b[39m=\u001b[39mallow_pickle,\n\u001b[1;32m    523\u001b[0m                        pickle_kwargs\u001b[39m=\u001b[39m\u001b[39mdict\u001b[39m(fix_imports\u001b[39m=\u001b[39mfix_imports))\n",
      "\u001b[0;31mValueError\u001b[0m: setting an array element with a sequence. The requested array has an inhomogeneous shape after 1 dimensions. The detected shape was (2,) + inhomogeneous part."
     ]
    }
   ],
   "source": [
    "for dir in listdir('spike_times'):\n",
    "    file = pjoin('spike_times', dir, 'spts.mat')\n",
    "    if not isfile(file):\n",
    "        print(dir)\n",
    "        continue\n",
    "    mat = loadmat(file)\n",
    "    print(np.array(mat['pfcspts'][0][0]).flatten())\n",
    "    pfc = [np.array(i).flatten() for i in mat['pfcspts'][0]]\n",
    "    str = [np.array(i).flatten() for i in mat['strspts'][0]]\n",
    "    np.save(pjoin('spike_times', dir, 'pfc.npy'), pfc)\n",
    "    np.save(pjoin('spike_times', dir, 'str.npy'), str)"
   ]
  },
  {
   "attachments": {},
   "cell_type": "markdown",
   "metadata": {},
   "source": [
    "# Convert Wei's summary table\n",
    "\n"
   ]
  },
  {
   "cell_type": "code",
   "execution_count": null,
   "metadata": {},
   "outputs": [],
   "source": [
    "from os.path import join as pjoin, isdir, basename, isfile\n",
    "from os import listdir, mkdir\n",
    "import numpy as np\n",
    "from glob import glob\n",
    "from tqdm import tqdm \n",
    "import matplotlib.pyplot as plt\n",
    "import seaborn as sns\n",
    "import pandas as pd\n",
    "\n",
    "data = pd.read_excel('PPD_RTW_summary_table_Wei_06may2022_V2.xlsx')\n",
    "\n",
    "# rename the sessions to match the current format\n",
    "# from index_yy.mm.dd to indexyyyymmdd\n",
    "data['session'] = data['session'].apply(lambda x: x.replace('.', ''))\n",
    "data['session'] = data['session'].apply(lambda x: x.replace('_', '20'))\n",
    "\n",
    "# lower case the cell location + (cell ID -1)\n",
    "data['cell'] = data['Cell location'].apply(lambda x: x.lower()) + '_' + (data['Cell ID'] - 1).astype(str)\n",
    "# remove the cell location and cell ID columns\n",
    "data = data.drop(columns=['Cell location', 'Cell ID'])\n",
    "\n",
    "# create another csv file storing stimulus, movement and reward correlation information\n",
    "stimulus_movement_reward = data[['session','Stimulus_related_firing_P_value','Movement_related_firing_P_value','Reward_related_firing_P_value']]\n",
    "# drop these columns from the original data\n",
    "data = data.drop(columns=['Stimulus_related_firing_P_value','Movement_related_firing_P_value','Reward_related_firing_P_value'])\n",
    "# rename the columns\n",
    "data = data.rename(columns={'Background_firing_correlation_Coefficient_with_PPD': 'background_firing_pearson_r', 'Background_firing_correlation_P_ value_with PPD': 'background_firing_p_values', 'Response_magnitude_correlation_Coefficient_with_PPD': 'response_firing_pearson_r', 'Response_magnitude_correlation_P_ value_with PPD':'response_firing_p_values'})\n",
    "\n",
    "\n",
    "# save the data in csv format\n",
    "data.to_csv('delta_P_correlation.csv', index=False)\n",
    "\n",
    "# save the stimulus, movement and reward correlation information in csv format\n",
    "stimulus_movement_reward.to_csv('stimulus_movement_reward_correlation.csv', index=False)"
   ]
  }
 ],
 "metadata": {
  "kernelspec": {
   "display_name": "Python 3",
   "language": "python",
   "name": "python3"
  },
  "language_info": {
   "codemirror_mode": {
    "name": "ipython",
    "version": 3
   },
   "file_extension": ".py",
   "mimetype": "text/x-python",
   "name": "python",
   "nbconvert_exporter": "python",
   "pygments_lexer": "ipython3",
   "version": "3.11.3"
  },
  "orig_nbformat": 4,
  "vscode": {
   "interpreter": {
    "hash": "916dbcbb3f70747c44a77c7bcd40155683ae19c65e1c03b4aa3499c5328201f1"
   }
  }
 },
 "nbformat": 4,
 "nbformat_minor": 2
}
