{
 "cells": [
  {
   "cell_type": "code",
   "execution_count": 5,
   "metadata": {},
   "outputs": [
    {
     "name": "stdout",
     "output_type": "stream",
     "text": [
      "(6648,)\n",
      "(1904,)\n",
      "(3921,)\n",
      "(8738,)\n",
      "(15252,)\n",
      "(6263,)\n",
      "(12171,)\n",
      "(5952,)\n",
      "(4020,)\n",
      "(2173,)\n",
      "(1756,)\n",
      "(1075,)\n",
      "(11989,)\n",
      "(4483,)\n",
      "(4255,)\n",
      "(3018,)\n",
      "(3755,)\n",
      "(7547,)\n"
     ]
    }
   ],
   "source": [
    "import numpy as np\n",
    "\n",
    "# load dms data\n",
    "dms = np.load('dms.npy', allow_pickle=True)\n",
    "# for each array in dms, print the shape of the array\n",
    "for i in range(len(dms)):\n",
    "    dms = np.load(f'dms_{i}.npy', allow_pickle=True)\n",
    "    print(dms.shape)"
   ]
  }
 ],
 "metadata": {
  "kernelspec": {
   "display_name": "dissertation",
   "language": "python",
   "name": "python3"
  },
  "language_info": {
   "codemirror_mode": {
    "name": "ipython",
    "version": 3
   },
   "file_extension": ".py",
   "mimetype": "text/x-python",
   "name": "python",
   "nbconvert_exporter": "python",
   "pygments_lexer": "ipython3",
   "version": "3.11.0"
  }
 },
 "nbformat": 4,
 "nbformat_minor": 2
}
