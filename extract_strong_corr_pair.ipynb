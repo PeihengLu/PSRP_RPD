{
 "cells": [
  {
   "cell_type": "code",
   "execution_count": null,
   "metadata": {},
   "outputs": [],
   "source": [
    "from os.path import join as pjoin\n",
    "from os import listdir\n",
    "\n",
    "import pandas as pd\n",
    "import numpy as np"
   ]
  },
  {
   "cell_type": "code",
   "execution_count": null,
   "metadata": {},
   "outputs": [],
   "source": [
    "data_root = \"data/spike_times\"\n",
    "behaviour_root = \"data/behaviour_data/csv/task_info\"\n",
    "strong_corr_iti_path = \"strong_correlation_pairs_ITI.csv\"\n",
    "strong_corr_path = \"strong_correlation_pairs.csv\"\n",
    "\n",
    "# returns two dataframe of cell pair data, first for iti, then for response window\n",
    "def get_strong_corr():\n",
    "    strong_corr_iti = pd.read_csv(strong_corr_iti_path)\n",
    "    strong_corr = pd.read_csv(strong_corr_path)\n",
    "\n",
    "    strong_corr_iti[\"session_name\"] = strong_corr_iti[\"mouse\"].str.cat(strong_corr_iti[\"date\"], step='')\n",
    "    strong_corr[\"session_name\"] = strong_corr[\"mouse\"].str.cat(strong_corr[\"date\"], step='')"
   ]
  }
 ],
 "metadata": {
  "language_info": {
   "name": "python"
  },
  "orig_nbformat": 4
 },
 "nbformat": 4,
 "nbformat_minor": 2
}
